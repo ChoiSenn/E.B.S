{
  "nbformat": 4,
  "nbformat_minor": 0,
  "metadata": {
    "colab": {
      "name": "ch09.ipynb",
      "provenance": [],
      "collapsed_sections": [],
      "authorship_tag": "ABX9TyMKRsXGsYq00FQqy9DJdSO8",
      "include_colab_link": true
    },
    "kernelspec": {
      "name": "python3",
      "display_name": "Python 3"
    },
    "language_info": {
      "name": "python"
    }
  },
  "cells": [
    {
      "cell_type": "markdown",
      "metadata": {
        "id": "view-in-github",
        "colab_type": "text"
      },
      "source": [
        "<a href=\"https://colab.research.google.com/github/ChoiSenn/E.B.S/blob/main/data_analysis/exercise/ch09.ipynb\" target=\"_parent\"><img src=\"https://colab.research.google.com/assets/colab-badge.svg\" alt=\"Open In Colab\"/></a>"
      ]
    },
    {
      "cell_type": "markdown",
      "source": [
        "# **데이터 분석과 머신러닝**\n",
        "## 2022-05-29  분류와 군집화\n",
        "\n",
        "<br><br>\n",
        "\n",
        "---\n",
        "\n",
        "<br><br>"
      ],
      "metadata": {
        "id": "aDSUYvqIBFUd"
      }
    },
    {
      "cell_type": "markdown",
      "source": [
        "## 1. 분류와 군집화\n",
        "\n",
        "<br><br>\n",
        "\n",
        "분류 : 소속 집단의 정보를 이미 알고 있는 상태에서, 새로운 데이터를 비슷한 집단으로 묶는 지도 학습의 한 종류\n",
        "<br>\n",
        "\n",
        "군집화 : 소속 집단의 정보가 없는 상태에서 비슷한 집단으로 묶는 비지도 학습의 한 종류\n",
        "\n",
        "<br>\n",
        "\n",
        "분류란 서로 다른 레이블로 표시된 소속 집단이 있을 경우 이들의 특성을 이용하여 새로운 데이터 A가 입력될 경우 가장 유사한 특성을 가진 집단으로 A의 집단을 결정하는 것이다.<br>\n",
        "반면 군집화란 새로운 데이터의 분류에 집중하기 보다는 기존의 데이터를 가까운 특성 그룹으로 나누어서 특성 그룹의 성격을 파악하는 데 유용하다.\n",
        "\n",
        "<br>\n",
        "\n",
        "k-NN 알고리즘에서 k-NN은 k-최근접 이웃의 약자로, 특징 공간에 분포하는 데이터에 k개의 가장 가까운 이웃을 살펴보고 다수결 방식으로 데이터의 레이블을 할당하는 분류 방식이다."
      ],
      "metadata": {
        "id": "QFHEf6tPLhS0"
      }
    },
    {
      "cell_type": "markdown",
      "source": [
        "<br><br>\n",
        "\n",
        "---\n",
        "\n",
        "<br><br>\n",
        "\n",
        "## 2. k-NN 알고리즘에 사용할 표본 집합 시각화\n",
        "\n",
        "<br><br>\n",
        "\n",
        "k-NN 알고리즘은 k 값에 따라 결과가 달라지는 특징이 있다.<br>\n",
        "\n",
        "k-NN 방법은 특징 공간에 있는 모든 데이터에 대한 정보가 필요하다. 따라서 데이터 인스턴스, 클래스, 특징의 요소들의 개수가 많다면, 많은 메모리 공간과 계산 시간이 필요하다는 단점이 있다. 반면 알고리즘이 매우 단순하고 직관적이며, 사전 학습이나 특별한 준비 시간이 필요없다는 점은 장점이다.\n",
        "\n",
        "<br>\n",
        "\n",
        "k-NN 알고리즘으로 닥스훈트와 진돗개의 데이터를 분석하기 위해 맷플롯립으로 데이터를 시각화해보았다."
      ],
      "metadata": {
        "id": "rrJfFj9QOkuH"
      }
    },
    {
      "cell_type": "code",
      "source": [
        "import matplotlib.pyplot as plt\n",
        "\n",
        "dach_length = [55, 57, 64, 63, 58, 49, 54, 61]\n",
        "dach_height = [30, 31, 36, 30, 33, 25, 37, 34]\n",
        "jin_length = [56, 47, 56, 46, 49, 53, 52, 48]\n",
        "jin_height = [52, 52, 50, 53, 50, 53, 49, 54]\n",
        "\n",
        "plt.scatter(dach_length, dach_height, c='r', label='Dachshund')\n",
        "plt.scatter(jin_length, jin_height,c='b',marker='^', label='Jindo dog')\n",
        "\n",
        "plt.xlabel('Length')             \n",
        "plt.ylabel('Height')             \n",
        "plt.title(\"Dog size\")\n",
        "plt.legend(loc='upper right')"
      ],
      "metadata": {
        "colab": {
          "base_uri": "https://localhost:8080/",
          "height": 313
        },
        "id": "axCqO8VZSAVi",
        "outputId": "cf5b6d26-e4f7-4ff3-b448-9d3004dc6e5d"
      },
      "execution_count": null,
      "outputs": [
        {
          "output_type": "execute_result",
          "data": {
            "text/plain": [
              "<matplotlib.legend.Legend at 0x7f533fbfb710>"
            ]
          },
          "metadata": {},
          "execution_count": 1
        },
        {
          "output_type": "display_data",
          "data": {
            "text/plain": [
              "<Figure size 432x288 with 1 Axes>"
            ],
            "image/png": "[encoded data removed]"
          },
          "metadata": {
            "needs_background": "light"
          }
        }
      ]
    },
    {
      "cell_type": "markdown",
      "source": [
        "<br><br>\n",
        "\n",
        "---\n",
        "\n",
        "<br><br>\n",
        "\n",
        "## 3. k-NN 분류기를 실행\n",
        "\n",
        "<br><br>\n",
        "\n",
        "어느 쪽으로 분류할지 결정해야 할 새로운 데이터를 추가하여 시각화한다."
      ],
      "metadata": {
        "id": "GIogSmJxSI5K"
      }
    },
    {
      "cell_type": "code",
      "source": [
        "import matplotlib.pyplot as plt\n",
        "\n",
        "dach_length = [55, 57, 64, 63, 58, 49, 54, 61]\n",
        "dach_height = [30, 31, 36, 30, 33, 25, 37, 34]\n",
        "jin_length = [56, 47, 56, 46, 49, 53, 52, 48]\n",
        "jin_height = [52, 52, 50, 53, 50, 53, 49, 54]\n",
        "\n",
        "plt.scatter(dach_length, dach_height, c='r', label='Dachshund')\n",
        "plt.scatter(jin_length, jin_height,c='b',marker='^', label='Jindo dog')\n",
        "\n",
        "plt.xlabel('Length')             \n",
        "plt.ylabel('Height')             \n",
        "plt.title(\"Dog size\")\n",
        "plt.legend(loc='upper right')\n",
        "\n",
        "newdata_length = [59]\n",
        "newdata_height = [35]\n",
        "\n",
        "plt.scatter(newdata_length, newdata_height, s=100, marker='p', c='g', label='new Data')"
      ],
      "metadata": {
        "colab": {
          "base_uri": "https://localhost:8080/",
          "height": 313
        },
        "id": "f9ZgDa4BS9Bu",
        "outputId": "09263b11-253d-4527-8cb0-427328567d44"
      },
      "execution_count": null,
      "outputs": [
        {
          "output_type": "execute_result",
          "data": {
            "text/plain": [
              "<matplotlib.collections.PathCollection at 0x7f533a287d90>"
            ]
          },
          "metadata": {},
          "execution_count": 2
        },
        {
          "output_type": "display_data",
          "data": {
            "text/plain": [
              "<Figure size 432x288 with 1 Axes>"
            ],
            "image/png": "[encoded data removed]"
          },
          "metadata": {
            "needs_background": "light"
          }
        }
      ]
    },
    {
      "cell_type": "markdown",
      "source": [
        "새 데이터의 가까이에 있는 점들의 대부분은 닥스훈트 클래스로 보인다. 이제 k-NN 알고리즘을 적용하여 새로운 데이터를 닥스훈트 클래스로 잘 분류하는지 확인한다."
      ],
      "metadata": {
        "id": "KYAcHlwQTBSW"
      }
    },
    {
      "cell_type": "code",
      "source": [
        "import numpy as np\n",
        "from sklearn.neighbors import KNeighborsClassifier \n",
        "from sklearn import metrics \n",
        "\n",
        "dach_length = [55, 57, 64, 63, 58, 49, 54, 61]\n",
        "dach_height = [30, 31, 36, 30, 33, 25, 37, 34]\n",
        "jin_length = [56, 47, 56, 46, 49, 53, 52, 48]\n",
        "jin_height = [52, 52, 50, 53, 50, 53, 49, 54]\n",
        "\n",
        "d_data = np.column_stack((dach_length, dach_height))\n",
        "d_label = np.zeros(len(d_data))   # 닥스훈트는 0으로 레이블링\n",
        "j_data = np.column_stack((jin_length, jin_height))\n",
        "j_label = np.ones(len(j_data))   # 진돗개는 1로 레이블링\n",
        "\n",
        "newdata = [[59, 35]]\n",
        "\n",
        "dogs = np.concatenate((d_data, j_data))\n",
        "labels = np.concatenate((d_label, j_label))\n",
        "\n",
        "dog_classes = {0:'닥스훈트', 1:'진돗개'} \n",
        "\n",
        "k = 3     # k를 3으로 지정\n",
        "knn = KNeighborsClassifier(n_neighbors = k) \n",
        "knn.fit(dogs, labels)\n",
        "y_pred = knn.predict(newdata)\n",
        "print('데이터', newdata, ', 판정 결과:', dog_classes[y_pred[0]])"
      ],
      "metadata": {
        "colab": {
          "base_uri": "https://localhost:8080/"
        },
        "id": "fa4F7GHfTLW_",
        "outputId": "6ba58e3f-0924-4fc2-da82-ba89e675979d"
      },
      "execution_count": null,
      "outputs": [
        {
          "output_type": "stream",
          "name": "stdout",
          "text": [
            "데이터 [[59, 35]] , 판정 결과: 닥스훈트\n"
          ]
        }
      ]
    },
    {
      "cell_type": "markdown",
      "source": [
        "입력된 데이터는 k-NN 분류기에 의해 닥스훈트로 분류된 모습을 알 수 있다."
      ],
      "metadata": {
        "id": "uY7sT-UGTeyQ"
      }
    },
    {
      "cell_type": "markdown",
      "source": [
        "<br><br>\n",
        "\n",
        "---\n",
        "\n",
        "<br><br>\n",
        "\n",
        "## 4. k-NN 활용 예제 - 붓꽃 데이터 준비\n",
        "\n",
        "<br><br>\n",
        "\n",
        "사이킷런 라이브러리에서는 꽃받침의 길이와 너비 및 꽃잎의 길이와 너비에 대한 정보, 그리고 종 이름을 가진 붓꽃 데이터셋을 제공한다.\n",
        "<br>\n",
        "\n",
        "꽃받침과 꽃잎의 크기 데이터를 기반으로 새로운 종을 분류하는 k-NN 모델을 구축한다.<br>\n",
        "\n",
        "우선 데이터를 읽어들여 가져오고 다루기 쉽도록 판다스의 데이터프레임으로 만들어본다."
      ],
      "metadata": {
        "id": "hPpTtguNTnKS"
      }
    },
    {
      "cell_type": "code",
      "source": [
        "from sklearn.datasets import load_iris \n",
        "import pandas as pd\n",
        "\n",
        "iris = load_iris()\n",
        "\n",
        "iris_df = pd.DataFrame(iris.data, columns=iris.feature_names)\n",
        "iris_df['target'] = pd.Series(iris.target)\n",
        "iris_df.head()"
      ],
      "metadata": {
        "colab": {
          "base_uri": "https://localhost:8080/",
          "height": 206
        },
        "id": "AzZbQPkoUD-U",
        "outputId": "3c624d7c-84cf-4f1f-e048-5cb2a7467b92"
      },
      "execution_count": null,
      "outputs": [
        {
          "output_type": "execute_result",
          "data": {
            "text/plain": [
              "   sepal length (cm)  sepal width (cm)  petal length (cm)  petal width (cm)  \\\n",
              "0                5.1               3.5                1.4               0.2   \n",
              "1                4.9               3.0                1.4               0.2   \n",
              "2                4.7               3.2                1.3               0.2   \n",
              "3                4.6               3.1                1.5               0.2   \n",
              "4                5.0               3.6                1.4               0.2   \n",
              "\n",
              "   target  \n",
              "0       0  \n",
              "1       0  \n",
              "2       0  \n",
              "3       0  \n",
              "4       0  "
            ],
            "text/html": [
              "\n",
              "  <div id=\"df-beb3a899-d6d6-42a1-9bc1-db2dec6f37b3\">\n",
              "    <div class=\"colab-df-container\">\n",
              "      <div>\n",
              "<style scoped>\n",
              "    .dataframe tbody tr th:only-of-type {\n",
              "        vertical-align: middle;\n",
              "    }\n",
              "\n",
              "    .dataframe tbody tr th {\n",
              "        vertical-align: top;\n",
              "    }\n",
              "\n",
              "    .dataframe thead th {\n",
              "        text-align: right;\n",
              "    }\n",
              "</style>\n",
              "<table border=\"1\" class=\"dataframe\">\n",
              "  <thead>\n",
              "    <tr style=\"text-align: right;\">\n",
              "      <th></th>\n",
              "      <th>sepal length (cm)</th>\n",
              "      <th>sepal width (cm)</th>\n",
              "      <th>petal length (cm)</th>\n",
              "      <th>petal width (cm)</th>\n",
              "      <th>target</th>\n",
              "    </tr>\n",
              "  </thead>\n",
              "  <tbody>\n",
              "    <tr>\n",
              "      <th>0</th>\n",
              "      <td>5.1</td>\n",
              "      <td>3.5</td>\n",
              "      <td>1.4</td>\n",
              "      <td>0.2</td>\n",
              "      <td>0</td>\n",
              "    </tr>\n",
              "    <tr>\n",
              "      <th>1</th>\n",
              "      <td>4.9</td>\n",
              "      <td>3.0</td>\n",
              "      <td>1.4</td>\n",
              "      <td>0.2</td>\n",
              "      <td>0</td>\n",
              "    </tr>\n",
              "    <tr>\n",
              "      <th>2</th>\n",
              "      <td>4.7</td>\n",
              "      <td>3.2</td>\n",
              "      <td>1.3</td>\n",
              "      <td>0.2</td>\n",
              "      <td>0</td>\n",
              "    </tr>\n",
              "    <tr>\n",
              "      <th>3</th>\n",
              "      <td>4.6</td>\n",
              "      <td>3.1</td>\n",
              "      <td>1.5</td>\n",
              "      <td>0.2</td>\n",
              "      <td>0</td>\n",
              "    </tr>\n",
              "    <tr>\n",
              "      <th>4</th>\n",
              "      <td>5.0</td>\n",
              "      <td>3.6</td>\n",
              "      <td>1.4</td>\n",
              "      <td>0.2</td>\n",
              "      <td>0</td>\n",
              "    </tr>\n",
              "  </tbody>\n",
              "</table>\n",
              "</div>\n",
              "      <button class=\"colab-df-convert\" onclick=\"convertToInteractive('df-beb3a899-d6d6-42a1-9bc1-db2dec6f37b3')\"\n",
              "              title=\"Convert this dataframe to an interactive table.\"\n",
              "              style=\"display:none;\">\n",
              "        \n",
              "  <svg xmlns=\"http://www.w3.org/2000/svg\" height=\"24px\"viewBox=\"0 0 24 24\"\n",
              "       width=\"24px\">\n",
              "    <path d=\"M0 0h24v24H0V0z\" fill=\"none\"/>\n",
              "    <path d=\"M18.56 5.44l.94 2.06.94-2.06 2.06-.94-2.06-.94-.94-2.06-.94 2.06-2.06.94zm-11 1L8.5 8.5l.94-2.06 2.06-.94-2.06-.94L8.5 2.5l-.94 2.06-2.06.94zm10 10l.94 2.06.94-2.06 2.06-.94-2.06-.94-.94-2.06-.94 2.06-2.06.94z\"/><path d=\"M17.41 7.96l-1.37-1.37c-.4-.4-.92-.59-1.43-.59-.52 0-1.04.2-1.43.59L10.3 9.45l-7.72 7.72c-.78.78-.78 2.05 0 2.83L4 21.41c.39.39.9.59 1.41.59.51 0 1.02-.2 1.41-.59l7.78-7.78 2.81-2.81c.8-.78.8-2.07 0-2.86zM5.41 20L4 18.59l7.72-7.72 1.47 1.35L5.41 20z\"/>\n",
              "  </svg>\n",
              "      </button>\n",
              "      \n",
              "  <style>\n",
              "    .colab-df-container {\n",
              "      display:flex;\n",
              "      flex-wrap:wrap;\n",
              "      gap: 12px;\n",
              "    }\n",
              "\n",
              "    .colab-df-convert {\n",
              "      background-color: #E8F0FE;\n",
              "      border: none;\n",
              "      border-radius: 50%;\n",
              "      cursor: pointer;\n",
              "      display: none;\n",
              "      fill: #1967D2;\n",
              "      height: 32px;\n",
              "      padding: 0 0 0 0;\n",
              "      width: 32px;\n",
              "    }\n",
              "\n",
              "    .colab-df-convert:hover {\n",
              "      background-color: #E2EBFA;\n",
              "      box-shadow: 0px 1px 2px rgba(60, 64, 67, 0.3), 0px 1px 3px 1px rgba(60, 64, 67, 0.15);\n",
              "      fill: #174EA6;\n",
              "    }\n",
              "\n",
              "    [theme=dark] .colab-df-convert {\n",
              "      background-color: #3B4455;\n",
              "      fill: #D2E3FC;\n",
              "    }\n",
              "\n",
              "    [theme=dark] .colab-df-convert:hover {\n",
              "      background-color: #434B5C;\n",
              "      box-shadow: 0px 1px 3px 1px rgba(0, 0, 0, 0.15);\n",
              "      filter: drop-shadow(0px 1px 2px rgba(0, 0, 0, 0.3));\n",
              "      fill: #FFFFFF;\n",
              "    }\n",
              "  </style>\n",
              "\n",
              "      <script>\n",
              "        const buttonEl =\n",
              "          document.querySelector('#df-beb3a899-d6d6-42a1-9bc1-db2dec6f37b3 button.colab-df-convert');\n",
              "        buttonEl.style.display =\n",
              "          google.colab.kernel.accessAllowed ? 'block' : 'none';\n",
              "\n",
              "        async function convertToInteractive(key) {\n",
              "          const element = document.querySelector('#df-beb3a899-d6d6-42a1-9bc1-db2dec6f37b3');\n",
              "          const dataTable =\n",
              "            await google.colab.kernel.invokeFunction('convertToInteractive',\n",
              "                                                     [key], {});\n",
              "          if (!dataTable) return;\n",
              "\n",
              "          const docLinkHtml = 'Like what you see? Visit the ' +\n",
              "            '<a target=\"_blank\" href=https://colab.research.google.com/notebooks/data_table.ipynb>data table notebook</a>'\n",
              "            + ' to learn more about interactive tables.';\n",
              "          element.innerHTML = '';\n",
              "          dataTable['output_type'] = 'display_data';\n",
              "          await google.colab.output.renderOutput(dataTable, element);\n",
              "          const docLink = document.createElement('div');\n",
              "          docLink.innerHTML = docLinkHtml;\n",
              "          element.appendChild(docLink);\n",
              "        }\n",
              "      </script>\n",
              "    </div>\n",
              "  </div>\n",
              "  "
            ]
          },
          "metadata": {},
          "execution_count": 6
        }
      ]
    },
    {
      "cell_type": "markdown",
      "source": [
        "<br><br>\n",
        "\n",
        "---\n",
        "\n",
        "<br><br>\n",
        "\n",
        "## 5. k-NN 활용 예제 - 붓꽃 데이터로 학습\n",
        "\n",
        "<br><br>\n",
        "\n",
        "붓꽃 데이터셋에 k-NN 알고리즘을 적용하기 위해 입력 값 X와 레이블 y로 나누어준다."
      ],
      "metadata": {
        "id": "ICTb6sWJUQuU"
      }
    },
    {
      "cell_type": "code",
      "source": [
        "X = iris_df.iloc[:, :4]\n",
        "y = iris_df.iloc[:, -1]"
      ],
      "metadata": {
        "id": "0Un3tjcIVTd3"
      },
      "execution_count": null,
      "outputs": []
    },
    {
      "cell_type": "markdown",
      "source": [
        "이제 X, y를 train_test_split() 함수를 사용하여 훈련 데이터와 검증 데이터로 구분한 다음, k-NN 알고리즘을 적용하고 정확도를 측정한다."
      ],
      "metadata": {
        "id": "TXKfJb52VX_Q"
      }
    },
    {
      "cell_type": "code",
      "source": [
        "from sklearn.model_selection import train_test_split \n",
        "from sklearn.neighbors import KNeighborsClassifier \n",
        "from sklearn import metrics \n",
        "\n",
        "def iris_knn(X, y, k):\n",
        "    X_train,X_test,y_train,y_test = train_test_split(X, y, test_size=0.3)\n",
        "    knn = KNeighborsClassifier(n_neighbors = k) \n",
        "    knn.fit(X_train, y_train) \n",
        "    y_pred = knn.predict(X_test) \n",
        "    return metrics.accuracy_score(y_test, y_pred) \n",
        "\n",
        "k = 3\n",
        "scores = iris_knn(X, y, k)\n",
        "print('n_neighbors가 {0:d}일때 정확도: {1:.3f}'.format(k, scores))"
      ],
      "metadata": {
        "colab": {
          "base_uri": "https://localhost:8080/"
        },
        "id": "8JIWJssYWNsW",
        "outputId": "bb239873-1e53-4822-8996-c5c08a16d348"
      },
      "execution_count": null,
      "outputs": [
        {
          "output_type": "stream",
          "name": "stdout",
          "text": [
            "n_neighbors가 3일때 정확도: 0.933\n"
          ]
        }
      ]
    },
    {
      "cell_type": "markdown",
      "source": [
        "검증 데이터의 전체를 30%로 두고, 나머지 70%를 이용하여 학습한 결과 k값이 3일 때 k-NN 알고리즘이 93.3%의 정확도로 예측하였음을 알 수 있다."
      ],
      "metadata": {
        "id": "vaS43H6CWQkW"
      }
    },
    {
      "cell_type": "markdown",
      "source": [
        "<br><br>\n",
        "\n",
        "---\n",
        "\n",
        "<br><br>\n",
        "\n",
        "## 도전문제 : 위의 코드에서 k 값을 수정하여 n_neighbors가 1, 5, 10, 20, 30일 때의 정확도를 각각 출력하시오.\n",
        "\n"
      ],
      "metadata": {
        "id": "Epj92UNyWbbK"
      }
    },
    {
      "cell_type": "code",
      "source": [
        "from sklearn.model_selection import train_test_split \n",
        "from sklearn.neighbors import KNeighborsClassifier \n",
        "from sklearn import metrics \n",
        "\n",
        "def iris_knn(X, y, k):\n",
        "    X_train,X_test,y_train,y_test = train_test_split(X, y, test_size=0.3)\n",
        "    knn = KNeighborsClassifier(n_neighbors = k) \n",
        "    knn.fit(X_train, y_train) \n",
        "    y_pred = knn.predict(X_test) \n",
        "    return metrics.accuracy_score(y_test, y_pred) \n",
        "\n",
        "k = 1\n",
        "scores = iris_knn(X, y, k)\n",
        "print('n_neighbors가 {0:d}일때 정확도: {1:.3f}'.format(k, scores))\n",
        "k = 5\n",
        "scores = iris_knn(X, y, k)\n",
        "print('n_neighbors가 {0:d}일때 정확도: {1:.3f}'.format(k, scores))\n",
        "k = 10\n",
        "scores = iris_knn(X, y, k)\n",
        "print('n_neighbors가 {0:d}일때 정확도: {1:.3f}'.format(k, scores))\n",
        "k = 20\n",
        "scores = iris_knn(X, y, k)\n",
        "print('n_neighbors가 {0:d}일때 정확도: {1:.3f}'.format(k, scores))\n",
        "k = 30\n",
        "scores = iris_knn(X, y, k)\n",
        "print('n_neighbors가 {0:d}일때 정확도: {1:.3f}'.format(k, scores))"
      ],
      "metadata": {
        "colab": {
          "base_uri": "https://localhost:8080/"
        },
        "id": "QgqGzTsUXZf3",
        "outputId": "886a15f1-3c2e-49f0-f4c5-bea6a4895909"
      },
      "execution_count": null,
      "outputs": [
        {
          "output_type": "stream",
          "name": "stdout",
          "text": [
            "n_neighbors가 1일때 정확도: 0.956\n",
            "n_neighbors가 5일때 정확도: 0.978\n",
            "n_neighbors가 10일때 정확도: 0.933\n",
            "n_neighbors가 20일때 정확도: 0.911\n",
            "n_neighbors가 30일때 정확도: 0.889\n"
          ]
        }
      ]
    },
    {
      "cell_type": "markdown",
      "source": [
        "<br><br>\n",
        "\n",
        "---\n",
        "\n",
        "<br><br>\n",
        "\n",
        "## 6. 새로운 꽃에 대해 모델을 적용하고 분류\n",
        "\n",
        "<br><br>\n",
        "\n",
        "사용 가능한 모든 데이터를 사용해서 모델을 학습하고 새로운 데이터로 예측해본다."
      ],
      "metadata": {
        "id": "gNyPhxjLZEYQ"
      }
    },
    {
      "cell_type": "code",
      "source": [
        "from sklearn.datasets import load_iris \n",
        "from sklearn.neighbors import KNeighborsClassifier \n",
        " \n",
        "k = 3\n",
        "iris = load_iris() \n",
        "knn = KNeighborsClassifier(n_neighbors = k) \n",
        "knn.fit(iris.data, iris.target) \n",
        "\n",
        "classes = {0:'setosa', 1:'versicolor', 2:'virginica'} \n",
        "\n",
        "X = [[4, 2, 1.3, 0.4], \n",
        "     [4, 3, 3.2, 2.2]] \n",
        "y = knn.predict(X) \n",
        " \n",
        "print('{} 특성을 가지는 품종: {}'.format(X[0], classes[y[0]])) \n",
        "print('{} 특성을 가지는 품종: {}'.format(X[1], classes[y[1]]))\n",
        "\n",
        "y_pred_all = knn.predict(iris.data)\n",
        "scores = metrics.accuracy_score(iris.target, y_pred_all)\n",
        "print('n_neighbors가 {0:d}일때 정확도: {1:.3f}'.format(k, scores))"
      ],
      "metadata": {
        "colab": {
          "base_uri": "https://localhost:8080/"
        },
        "id": "23ONEJVeaLVa",
        "outputId": "3341e827-b724-41b7-fcb3-ce0751544738"
      },
      "execution_count": null,
      "outputs": [
        {
          "output_type": "stream",
          "name": "stdout",
          "text": [
            "[4, 2, 1.3, 0.4] 특성을 가지는 품종: setosa\n",
            "[4, 3, 3.2, 2.2] 특성을 가지는 품종: versicolor\n",
            "n_neighbors가 3일때 정확도: 0.960\n"
          ]
        }
      ]
    },
    {
      "cell_type": "markdown",
      "source": [
        "4% 정도의 오차가 있었음을 알 수 있다. 아래 코드를 2차원 히스토그램으로 시각화하여 한눈에 알아보자."
      ],
      "metadata": {
        "id": "w4O-1sUTaWTn"
      }
    },
    {
      "cell_type": "code",
      "source": [
        "import matplotlib.pyplot as plt\n",
        "plt.hist2d(iris.target, y_pred_all, bins=(3,3), cmap=plt.cm.jet)"
      ],
      "metadata": {
        "colab": {
          "base_uri": "https://localhost:8080/",
          "height": 379
        },
        "id": "XWXrc4g4agrB",
        "outputId": "c86f9e5e-bd55-463b-83fe-430bc683826f"
      },
      "execution_count": null,
      "outputs": [
        {
          "output_type": "execute_result",
          "data": {
            "text/plain": [
              "(array([[50.,  0.,  0.],\n",
              "        [ 0., 47.,  3.],\n",
              "        [ 0.,  3., 47.]]),\n",
              " array([0.        , 0.66666667, 1.33333333, 2.        ]),\n",
              " array([0.        , 0.66666667, 1.33333333, 2.        ]),\n",
              " <matplotlib.collections.QuadMesh at 0x7f5323eb8450>)"
            ]
          },
          "metadata": {},
          "execution_count": 14
        },
        {
          "output_type": "display_data",
          "data": {
            "text/plain": [
              "<Figure size 432x288 with 1 Axes>"
            ],
            "image/png": "[encoded data removed]"
          },
          "metadata": {
            "needs_background": "light"
          }
        }
      ]
    },
    {
      "cell_type": "markdown",
      "source": [
        "사이킷런 모듈에서는 이러한 시각화 결과를 혼동 행렬이라고 한다. 클래스 0의 데이터는 모두 0으로 잘 분류되었지만, 클래스 1의 데이터 3개가 2로 잘못 분류되었음을 알 수 있다."
      ],
      "metadata": {
        "id": "BMygjsE5ak8s"
      }
    },
    {
      "cell_type": "markdown",
      "source": [
        "<br><br>\n",
        "\n",
        "---\n",
        "\n",
        "<br><br>\n",
        "\n",
        "## 7. 게임을 하는 고객을 분류 - k-평균 알고리즘의 단점\n",
        "\n",
        "<br><br>\n",
        "\n",
        "k-평균 알고리즘은 원리가 단순하고 직관적이며 성능이 좋은 군집화 알고리즘이다. 그러나 사전에 군집의 개수 k 값을 지정해야 하는 단점이 있다."
      ],
      "metadata": {
        "id": "GtoSjhZ3bW4o"
      }
    },
    {
      "cell_type": "markdown",
      "source": [
        "<br><br>\n",
        "\n",
        "---\n",
        "\n",
        "<br><br>\n",
        "\n",
        "## 8. 데이터 전처리의 필요성\n",
        "\n",
        "<br><br>\n",
        "\n",
        "게임 사용자의 사용 시간과 레벨 정보를 가져와서 확인하고 산포도 그래프를 그려본다."
      ],
      "metadata": {
        "id": "gMjhbEkDTOmU"
      }
    },
    {
      "cell_type": "code",
      "source": [
        "import pandas as pd\n",
        "import numpy as np\n",
        "import matplotlib.pyplot as plt\n",
        "\n",
        "data_loc = 'https://github.com/dongupak/DataML/raw/main/csv/'\n",
        "game_usage = pd.read_csv(data_loc + 'game_usage.csv')\n",
        "\n",
        "X = game_usage['time spent']\n",
        "Y = game_usage['game level']\n",
        "\n",
        "plt.title(\"Game player data\")\n",
        "plt.xlabel('Time spent')\n",
        "plt.xlabel('Game level') \n",
        "plt.scatter(X, Y)"
      ],
      "metadata": {
        "colab": {
          "base_uri": "https://localhost:8080/",
          "height": 313
        },
        "id": "c9nIKiJoXDs9",
        "outputId": "2955f5b5-8054-44da-ca86-ff7ddd119291"
      },
      "execution_count": 1,
      "outputs": [
        {
          "output_type": "execute_result",
          "data": {
            "text/plain": [
              "<matplotlib.collections.PathCollection at 0x7f40c7d80950>"
            ]
          },
          "metadata": {},
          "execution_count": 1
        },
        {
          "output_type": "display_data",
          "data": {
            "text/plain": [
              "<Figure size 432x288 with 1 Axes>"
            ],
            "image/png": "[encoded data removed]"
          },
          "metadata": {
            "needs_background": "light"
          }
        }
      ]
    },
    {
      "cell_type": "markdown",
      "source": [
        "이 데이터를 k-평균 군집화 기법을 이용하여 4개의 군집으로 분류한다. 쌍의 데이터를 받아 군집으로 나누어 시각화해주는 kmeans_predict_plot() 함수를 만들어 이용한다."
      ],
      "metadata": {
        "id": "yY39e_o1XJEa"
      }
    },
    {
      "cell_type": "code",
      "source": [
        "from sklearn import cluster\n",
        "\n",
        "def kmeans_predict_plot(data, k):\n",
        "   model = cluster.KMeans(n_clusters=k)\n",
        "   model.fit(data)\n",
        "   labels = model.predict(data)\n",
        "   colors = np.array(['red', 'green', 'blue', 'magenta'])\n",
        "   plt.suptitle('k-Means clustering, k={}'.format(k))\n",
        "   plt.scatter(data[:, 0], data[:, 1], color=colors[labels])\n",
        "\n",
        "gamer_data = np.column_stack((X, Y))\n",
        "kmeans_predict_plot(gamer_data, k = 4)"
      ],
      "metadata": {
        "colab": {
          "base_uri": "https://localhost:8080/",
          "height": 294
        },
        "id": "r6ZV3Z5wXmH6",
        "outputId": "0323c9f7-9628-431d-a534-269ab8f00a17"
      },
      "execution_count": 2,
      "outputs": [
        {
          "output_type": "display_data",
          "data": {
            "text/plain": [
              "<Figure size 432x288 with 1 Axes>"
            ],
            "image/png": "[encoded data removed]"
          },
          "metadata": {
            "needs_background": "light"
          }
        }
      ]
    },
    {
      "cell_type": "markdown",
      "source": [
        "<br><br>\n",
        "\n",
        "---\n",
        "\n",
        "<br><br>\n",
        "\n",
        "## 9. 데이터 정규화 방법 이용\n",
        "\n",
        "<br><br>\n",
        "\n",
        "k-평균 알고리즘은 거리값을 기준으로 가까운 값을 같은 군집으로 분류하기 때문에 적절한 군집화가 이루어지지 않을 수도 있다. 따라서 각각의 특징들이 갖는 값들을 동일한 규모로 변경하는 작업이 필요할 수도 있다.\n",
        "<br>\n",
        "\n",
        "이때 각 데이터를 정규화 하는 방법이 있다. 정규화는 모든 데이터를 0에서 1 사이의 값이 되도록 하는 것이다. \n",
        "\n",
        "<br>\n",
        "\n",
        "fit() 메소드는 데이터의 최대, 최소값을 바탕으로 데이터를 정규화한다. 정규화된 데이터의 min(), max()는 각각 0과 1이 된다."
      ],
      "metadata": {
        "id": "f0nkiB9RXm50"
      }
    },
    {
      "cell_type": "code",
      "source": [
        "from sklearn.preprocessing import MinMaxScaler\n",
        "\n",
        "scaler = MinMaxScaler()\n",
        "scaler.fit(gamer_data)\n",
        "n_data = scaler.transform(gamer_data)\n",
        "\n",
        "print(n_data[:, 0].mean(), n_data[:, 1].mean())\n",
        "print(n_data[:, 0].min(), n_data[:, 0].max())\n",
        "print(n_data[:, 1].min(), n_data[:, 1].max())"
      ],
      "metadata": {
        "colab": {
          "base_uri": "https://localhost:8080/"
        },
        "id": "XpKf_OWbaF3J",
        "outputId": "27a51525-96cf-43ec-a22f-e27408a6eca5"
      },
      "execution_count": 4,
      "outputs": [
        {
          "output_type": "stream",
          "name": "stdout",
          "text": [
            "0.4731578947368421 0.5324949290060852\n",
            "0.0 1.0\n",
            "0.0 1.0\n"
          ]
        }
      ]
    },
    {
      "cell_type": "markdown",
      "source": [
        "이제 정규화된 데이터에 대하여 4개의 군집으로 나누는 작업을 한다."
      ],
      "metadata": {
        "id": "4t3NrOR_bcMP"
      }
    },
    {
      "cell_type": "code",
      "source": [
        "kmeans_predict_plot(n_data, k = 4)"
      ],
      "metadata": {
        "colab": {
          "base_uri": "https://localhost:8080/",
          "height": 294
        },
        "id": "7FjxaO7abhNg",
        "outputId": "1e37a3c8-b899-4cb1-ec4e-7b96288b5e39"
      },
      "execution_count": 5,
      "outputs": [
        {
          "output_type": "display_data",
          "data": {
            "text/plain": [
              "<Figure size 432x288 with 1 Axes>"
            ],
            "image/png": "[encoded data removed]"
          },
          "metadata": {
            "needs_background": "light"
          }
        }
      ]
    },
    {
      "cell_type": "markdown",
      "source": [
        "정규화를 해야만 위의 그래프처럼 x축과 y축의 특성이 모두 반영된 군집화 결과를 얻을 수 있다."
      ],
      "metadata": {
        "id": "gFy2HF9EbmPA"
      }
    },
    {
      "cell_type": "markdown",
      "source": [
        "<br><br>\n",
        "\n",
        "---\n",
        "\n",
        "<br><br>\n",
        "\n",
        "## 10. 다양한 스케일러 살펴보기\n",
        "\n",
        "<br><br>\n",
        "\n",
        "데이터를 정제하는 또 다른 방법은 표준화이다. 표준화는 데이터를 정제할 때 전체의 평균과 분산을 사용한다.<br>\n",
        "\n",
        "표준편차는 분산의 제곱근이다. 표준화는 이들의 값을 구한 뒤에 x를 계산하여 변환하는 것이다. 변환이 이루어지면 x'는 평균이 0이고 분산이 1인 데이터가 된다."
      ],
      "metadata": {
        "id": "GCrlvGf5buzn"
      }
    },
    {
      "cell_type": "code",
      "source": [
        "import numpy as np\n",
        "\n",
        "a = np.array([10, 8, 10, 8, 8, 4])\n",
        "print('합계 :', a.sum())\n",
        "print('평균 :', a.mean())\n",
        "print('분산 :', a.var())\n",
        "print('표준편차 :', a.std())"
      ],
      "metadata": {
        "colab": {
          "base_uri": "https://localhost:8080/"
        },
        "id": "W2TDKDCqcJb6",
        "outputId": "15fb2ebe-16ca-4b2c-a899-ce043ce4ee19"
      },
      "execution_count": 6,
      "outputs": [
        {
          "output_type": "stream",
          "name": "stdout",
          "text": [
            "합계 : 48\n",
            "평균 : 8.0\n",
            "분산 : 4.0\n",
            "표준편차 : 2.0\n"
          ]
        }
      ]
    },
    {
      "cell_type": "markdown",
      "source": [
        "사이킷런을 이용하여 데이터를 표준화할 때는 preprocessing의 StandardScalar 클래스를 사용한다. 표준화의 결과 데이터의 평균은 0이 되며 분산은 1이 된다.\n",
        "\n",
        "<br>\n",
        "\n",
        "게임 데이터를 표준 스케일러인 StandartScalar로 변환한 후 분산을 확인하면 1이 되며 평균값은 0에 가까운 값이 되는 것을 알 수 있다."
      ],
      "metadata": {
        "id": "gb5ROXt9cLc5"
      }
    },
    {
      "cell_type": "code",
      "source": [
        "from sklearn.preprocessing import StandardScaler\n",
        "\n",
        "standardScaler = StandardScaler()\n",
        "standardScaler.fit(gamer_data)\n",
        "gamer_data_scaled = standardScaler.transform(gamer_data)\n",
        "\n",
        "gamer_data_scaled[:, 0].std(), gamer_data_scaled[:, 1].std()"
      ],
      "metadata": {
        "colab": {
          "base_uri": "https://localhost:8080/"
        },
        "id": "_TTes0w5ckzy",
        "outputId": "ccd53219-1f4d-4c3f-b36e-e5f8c5fb5c31"
      },
      "execution_count": 7,
      "outputs": [
        {
          "output_type": "execute_result",
          "data": {
            "text/plain": [
              "(1.0000000000000002, 1.0)"
            ]
          },
          "metadata": {},
          "execution_count": 7
        }
      ]
    },
    {
      "cell_type": "code",
      "source": [
        "gamer_data_scaled[:, 0].mean(), gamer_data_scaled[:, 1].mean()"
      ],
      "metadata": {
        "colab": {
          "base_uri": "https://localhost:8080/"
        },
        "id": "qX5RzvbWcl97",
        "outputId": "aa737847-4d33-4b0f-b9ff-53e43db5563a"
      },
      "execution_count": 8,
      "outputs": [
        {
          "output_type": "execute_result",
          "data": {
            "text/plain": [
              "(-1.1435297153639113e-16, 1.1546319456101628e-16)"
            ]
          },
          "metadata": {},
          "execution_count": 8
        }
      ]
    },
    {
      "cell_type": "markdown",
      "source": [
        "<br><br>\n",
        "\n",
        "---\n",
        "\n",
        "<br><br>\n",
        "\n",
        "# 심화문제\n",
        "\n",
        "<br><br>\n",
        "\n",
        "## 1. 진돗개와 닥스훈트 분류 문제\n",
        "\n",
        "### 1-1. 두 데이터 군집의 중간에 있는 길이 52, 높이 42인 데이터를 녹색 점으로 표시하여라."
      ],
      "metadata": {
        "id": "SSWS_L9lcm1u"
      }
    },
    {
      "cell_type": "code",
      "source": [
        "import matplotlib.pyplot as plt\n",
        "\n",
        "dach_length = [55, 57, 64, 63, 58, 49, 54, 61]\n",
        "dach_height = [30, 31, 36, 30, 33, 25, 37, 34]\n",
        "jin_length = [56, 47, 56, 46, 49, 53, 52, 48]\n",
        "jin_height = [52, 52, 50, 53, 50, 53, 49, 54]\n",
        "\n",
        "plt.scatter(dach_length, dach_height, c='r', label='Dachshund')\n",
        "plt.scatter(jin_length, jin_height,c='b',marker='^', label='Jindo dog')\n",
        "\n",
        "plt.xlabel('Length')             \n",
        "plt.ylabel('Height')             \n",
        "plt.title(\"Dog size\")\n",
        "plt.legend(loc='upper right')\n",
        "\n",
        "newdata_length = [52]\n",
        "newdata_height = [42]\n",
        "\n",
        "plt.scatter(newdata_length, newdata_height, s=100, marker='p', c='g', label='new Data')"
      ],
      "metadata": {
        "colab": {
          "base_uri": "https://localhost:8080/",
          "height": 313
        },
        "id": "xIRa9kRPc0k5",
        "outputId": "ce53d811-bd85-4a7e-a9d5-0c661b92e291"
      },
      "execution_count": 9,
      "outputs": [
        {
          "output_type": "execute_result",
          "data": {
            "text/plain": [
              "<matplotlib.collections.PathCollection at 0x7f40b2d22850>"
            ]
          },
          "metadata": {},
          "execution_count": 9
        },
        {
          "output_type": "display_data",
          "data": {
            "text/plain": [
              "<Figure size 432x288 with 1 Axes>"
            ],
            "image/png": "[encoded data removed]"
          },
          "metadata": {
            "needs_background": "light"
          }
        }
      ]
    },
    {
      "cell_type": "markdown",
      "source": [
        "### 1-2. 위의 데이터에 k-NN 알고리즘을 적용하여라. 이때 k값을 1, 5, 9로 두어서 분류를 확인한다."
      ],
      "metadata": {
        "id": "CPGJgi7OdAiL"
      }
    },
    {
      "cell_type": "code",
      "source": [
        "import numpy as np\n",
        "from sklearn.neighbors import KNeighborsClassifier \n",
        "from sklearn import metrics \n",
        "\n",
        "dach_length = [55, 57, 64, 63, 58, 49, 54, 61]\n",
        "dach_height = [30, 31, 36, 30, 33, 25, 37, 34]\n",
        "jin_length = [56, 47, 56, 46, 49, 53, 52, 48]\n",
        "jin_height = [52, 52, 50, 53, 50, 53, 49, 54]\n",
        "\n",
        "d_data = np.column_stack((dach_length, dach_height))\n",
        "d_label = np.zeros(len(d_data))   # 닥스훈트는 0으로 레이블링\n",
        "j_data = np.column_stack((jin_length, jin_height))\n",
        "j_label = np.ones(len(j_data))   # 진돗개는 1로 레이블링\n",
        "\n",
        "newdata = [[52, 42]]\n",
        "\n",
        "dogs = np.concatenate((d_data, j_data))\n",
        "labels = np.concatenate((d_label, j_label))\n",
        "\n",
        "dog_classes = {0:'닥스훈트', 1:'진돗개'} \n",
        "\n",
        "k = 1 \n",
        "knn = KNeighborsClassifier(n_neighbors = k) \n",
        "knn.fit(dogs, labels)\n",
        "y_pred = knn.predict(newdata)\n",
        "print('k = 1일 때 판정 결과:', dog_classes[y_pred[0]])\n",
        "\n",
        "k = 5\n",
        "knn = KNeighborsClassifier(n_neighbors = k) \n",
        "knn.fit(dogs, labels)\n",
        "y_pred = knn.predict(newdata)\n",
        "print('k = 5일 때 판정 결과:', dog_classes[y_pred[0]])\n",
        "\n",
        "k = 9\n",
        "knn = KNeighborsClassifier(n_neighbors = k) \n",
        "knn.fit(dogs, labels)\n",
        "y_pred = knn.predict(newdata)\n",
        "print('k = 9일 때 판정 결과:', dog_classes[y_pred[0]])"
      ],
      "metadata": {
        "colab": {
          "base_uri": "https://localhost:8080/"
        },
        "id": "wBkfugeMdMpx",
        "outputId": "6105ab95-adce-4e65-96aa-a32cd0dceb5b"
      },
      "execution_count": 10,
      "outputs": [
        {
          "output_type": "stream",
          "name": "stdout",
          "text": [
            "k = 1일 때 판정 결과: 닥스훈트\n",
            "k = 5일 때 판정 결과: 진돗개\n",
            "k = 9일 때 판정 결과: 진돗개\n"
          ]
        }
      ]
    },
    {
      "cell_type": "markdown",
      "source": [
        "## 2. 펭귄의 각 종에 대한 8개의 샘플이 있다."
      ],
      "metadata": {
        "id": "b1vSeEqfdbyg"
      }
    },
    {
      "cell_type": "markdown",
      "source": [
        "### 2-1. k-NN 알고리즘을 이용해 분류하고자 한다. 이를 위해 펭귄의 키와 몸무게를 하나의 쌍으로 묶어 각각을 다차원 배열로 출력한다."
      ],
      "metadata": {
        "id": "u4Bipxyqdl17"
      }
    },
    {
      "cell_type": "code",
      "source": [
        "king_h = np.array([[90, 36.2], [98, 39.1], [85, 30.4], [83, 33.6], [73, 22.9], [97, 37.3], [93, 34.2], [80, 31.1]])\n",
        "jen_h = np.array([[55, 9.6], [65, 10.7], [67, 8.9], [78, 16.3], [81, 18.0], [83, 17.3], [63, 5.9], [77, 16.1]])\n",
        "rock_h = np.array([[44, 3.5], [48, 4.1], [58, 4.9], [41, 3.0], [46, 4.8], [57, 5.3], [41, 3.6], [45, 3.8]])\n",
        "\n",
        "print(\"황제펭귄: \", king_h)\n",
        "print(\"젠투펭귄: \", jen_h)\n",
        "print(\"바위뛰기펭귄: \", rock_h)"
      ],
      "metadata": {
        "colab": {
          "base_uri": "https://localhost:8080/"
        },
        "id": "d5-LfzDAds-K",
        "outputId": "8f741c26-6d91-484c-cd7c-31adb950a3e1"
      },
      "execution_count": 16,
      "outputs": [
        {
          "output_type": "stream",
          "name": "stdout",
          "text": [
            "황제펭귄:  [[90.  36.2]\n",
            " [98.  39.1]\n",
            " [85.  30.4]\n",
            " [83.  33.6]\n",
            " [73.  22.9]\n",
            " [97.  37.3]\n",
            " [93.  34.2]\n",
            " [80.  31.1]]\n",
            "젠투펭귄:  [[55.   9.6]\n",
            " [65.  10.7]\n",
            " [67.   8.9]\n",
            " [78.  16.3]\n",
            " [81.  18. ]\n",
            " [83.  17.3]\n",
            " [63.   5.9]\n",
            " [77.  16.1]]\n",
            "바위뛰기펭귄:  [[44.   3.5]\n",
            " [48.   4.1]\n",
            " [58.   4.9]\n",
            " [41.   3. ]\n",
            " [46.   4.8]\n",
            " [57.   5.3]\n",
            " [41.   3.6]\n",
            " [45.   3.8]]\n"
          ]
        }
      ]
    },
    {
      "cell_type": "markdown",
      "source": [
        "### 2-2. 넘파이의 concatenate() 함수를 사용하여 이 세 종의 다차원 배열을 차례대로 연결하여 하나의 넘파이 배열인 penguins를 만들고 출력하라."
      ],
      "metadata": {
        "id": "MZLLc0DRfFbw"
      }
    },
    {
      "cell_type": "code",
      "source": [
        "penguins  = np.concatenate((king_h, jen_h, rock_h))\n",
        "\n",
        "print(\"penguins : \", penguins)"
      ],
      "metadata": {
        "colab": {
          "base_uri": "https://localhost:8080/"
        },
        "id": "as_fP6fifFCl",
        "outputId": "4ef2d0c1-c323-4bfc-f318-2cc75bcf0c8a"
      },
      "execution_count": 20,
      "outputs": [
        {
          "output_type": "stream",
          "name": "stdout",
          "text": [
            "penguins :  [[90.  36.2]\n",
            " [98.  39.1]\n",
            " [85.  30.4]\n",
            " [83.  33.6]\n",
            " [73.  22.9]\n",
            " [97.  37.3]\n",
            " [93.  34.2]\n",
            " [80.  31.1]\n",
            " [55.   9.6]\n",
            " [65.  10.7]\n",
            " [67.   8.9]\n",
            " [78.  16.3]\n",
            " [81.  18. ]\n",
            " [83.  17.3]\n",
            " [63.   5.9]\n",
            " [77.  16.1]\n",
            " [44.   3.5]\n",
            " [48.   4.1]\n",
            " [58.   4.9]\n",
            " [41.   3. ]\n",
            " [46.   4.8]\n",
            " [57.   5.3]\n",
            " [41.   3.6]\n",
            " [45.   3.8]]\n"
          ]
        }
      ]
    },
    {
      "cell_type": "markdown",
      "source": [
        "### 2-3. 레이블을 만든다."
      ],
      "metadata": {
        "id": "X_FfoIh4hUmU"
      }
    },
    {
      "cell_type": "code",
      "source": [
        "labels  = [0, 0, 0, 0, 0, 0, 0, 0, 1, 1, 1, 1, 1, 1, 1, 1, 2, 2, 2, 2, 2, 2, 2, 2]\n",
        "\n",
        "print(\"labels : \", labels)"
      ],
      "metadata": {
        "colab": {
          "base_uri": "https://localhost:8080/"
        },
        "id": "LzZZo57ahYAa",
        "outputId": "d02f70ee-f6ed-42cf-abbc-894a9523e1b7"
      },
      "execution_count": 24,
      "outputs": [
        {
          "output_type": "stream",
          "name": "stdout",
          "text": [
            "labels :  [0, 0, 0, 0, 0, 0, 0, 0, 1, 1, 1, 1, 1, 1, 1, 1, 2, 2, 2, 2, 2, 2, 2, 2]\n"
          ]
        }
      ]
    },
    {
      "cell_type": "markdown",
      "source": [
        "### 2-4. 키와 몸무게만을 알고 있는 새로운 펭귄 데이터 A,B,C,D,E를 k-NN 알고리즘을 이용해 분류하자."
      ],
      "metadata": {
        "id": "w-rnn73Fhl5l"
      }
    },
    {
      "cell_type": "code",
      "source": [
        "pen_classes = {0:'황제펭귄', 1:'젠투펭귄', 2:'바위뛰기펭귄'} \n",
        "\n",
        "A = [[75, 23.1]]\n",
        "B = [[74, 16.6]]\n",
        "C = [[56, 5.4]]\n",
        "D = [[50, 5.3]]\n",
        "E = [[89, 30.1]]\n",
        "\n",
        "for i in range(1, 6):\n",
        "  k = i\n",
        "  knn = KNeighborsClassifier(n_neighbors = k) \n",
        "  knn.fit(penguins, labels)\n",
        "  y_pred = knn.predict(A)\n",
        "  print('A : n_neighbors가',k, '일 때 : ', pen_classes[y_pred[0]])\n",
        "\n",
        "print()\n",
        "\n",
        "for i in range(1, 6):\n",
        "  k = i\n",
        "  knn = KNeighborsClassifier(n_neighbors = k) \n",
        "  knn.fit(penguins, labels)\n",
        "  y_pred = knn.predict(B)\n",
        "  print('B : n_neighbors가',k, '일 때 : ', pen_classes[y_pred[0]])\n",
        "\n",
        "print()\n",
        "\n",
        "for i in range(1, 6):\n",
        "  k = i\n",
        "  knn = KNeighborsClassifier(n_neighbors = k) \n",
        "  knn.fit(penguins, labels)\n",
        "  y_pred = knn.predict(C)\n",
        "  print('C : n_neighbors가',k, '일 때 : ', pen_classes[y_pred[0]])\n",
        "\n",
        "print()\n",
        "\n",
        "for i in range(1, 6):\n",
        "  k = i\n",
        "  knn = KNeighborsClassifier(n_neighbors = k) \n",
        "  knn.fit(penguins, labels)\n",
        "  y_pred = knn.predict(D)\n",
        "  print('D : n_neighbors가',k, '일 때 : ', pen_classes[y_pred[0]])\n",
        "\n",
        "print()\n",
        "\n",
        "for i in range(1, 6):\n",
        "  k = i\n",
        "  knn = KNeighborsClassifier(n_neighbors = k) \n",
        "  knn.fit(penguins, labels)\n",
        "  y_pred = knn.predict(E)\n",
        "  print('E : n_neighbors가',k, '일 때 : ', pen_classes[y_pred[0]])"
      ],
      "metadata": {
        "colab": {
          "base_uri": "https://localhost:8080/"
        },
        "id": "IZZoeuVIi_1W",
        "outputId": "868399f9-3b2d-4b25-cd5a-d00f4f0c60f6"
      },
      "execution_count": 32,
      "outputs": [
        {
          "output_type": "stream",
          "name": "stdout",
          "text": [
            "A : n_neighbors가 1 일 때 :  황제펭귄\n",
            "A : n_neighbors가 2 일 때 :  황제펭귄\n",
            "A : n_neighbors가 3 일 때 :  젠투펭귄\n",
            "A : n_neighbors가 4 일 때 :  젠투펭귄\n",
            "A : n_neighbors가 5 일 때 :  젠투펭귄\n",
            "\n",
            "B : n_neighbors가 1 일 때 :  젠투펭귄\n",
            "B : n_neighbors가 2 일 때 :  젠투펭귄\n",
            "B : n_neighbors가 3 일 때 :  젠투펭귄\n",
            "B : n_neighbors가 4 일 때 :  젠투펭귄\n",
            "B : n_neighbors가 5 일 때 :  젠투펭귄\n",
            "\n",
            "C : n_neighbors가 1 일 때 :  바위뛰기펭귄\n",
            "C : n_neighbors가 2 일 때 :  바위뛰기펭귄\n",
            "C : n_neighbors가 3 일 때 :  바위뛰기펭귄\n",
            "C : n_neighbors가 4 일 때 :  젠투펭귄\n",
            "C : n_neighbors가 5 일 때 :  바위뛰기펭귄\n",
            "\n",
            "D : n_neighbors가 1 일 때 :  바위뛰기펭귄\n",
            "D : n_neighbors가 2 일 때 :  바위뛰기펭귄\n",
            "D : n_neighbors가 3 일 때 :  바위뛰기펭귄\n",
            "D : n_neighbors가 4 일 때 :  바위뛰기펭귄\n",
            "D : n_neighbors가 5 일 때 :  바위뛰기펭귄\n",
            "\n",
            "E : n_neighbors가 1 일 때 :  황제펭귄\n",
            "E : n_neighbors가 2 일 때 :  황제펭귄\n",
            "E : n_neighbors가 3 일 때 :  황제펭귄\n",
            "E : n_neighbors가 4 일 때 :  황제펭귄\n",
            "E : n_neighbors가 5 일 때 :  황제펭귄\n"
          ]
        }
      ]
    },
    {
      "cell_type": "markdown",
      "source": [
        "### 2-5. 이 데이터를 산포도 그래프로 그려서 나타내보자."
      ],
      "metadata": {
        "id": "KcB8wHCalNBu"
      }
    },
    {
      "cell_type": "code",
      "source": [
        "king_height, king_weight, gen_height, gen_weight, rock_height, rock_weight = [], [], [], [], [], []\n",
        "\n",
        "for i in range(len(king_h)):\n",
        "  king_height.append(king_h[i][0])\n",
        "  king_weight.append(king_h[i][1])\n",
        "  gen_height.append(jen_h[i][0])\n",
        "  gen_weight.append(jen_h[i][1])\n",
        "  rock_height.append(rock_h[i][0])\n",
        "  rock_weight.append(rock_h[i][1])\n",
        "\n",
        "ah = [75]\n",
        "aw = [23.1]\n",
        "bh = [74]\n",
        "bw = [16.6]\n",
        "ch = [56]\n",
        "cw = [5.4]\n",
        "dh = [50]\n",
        "dw = [5.3]\n",
        "eh = [89]\n",
        "ew = [30.1]\n",
        "\n",
        "plt.title(\"Penguine size\")\n",
        "plt.xlabel('height')\n",
        "plt.ylabel('weight') \n",
        "\n",
        "plt.scatter(king_height, king_weight, c='r',marker='o', label='Emperor Penguine')\n",
        "plt.scatter(gen_height, gen_weight ,c='b',marker='^', label='Gentoo Penguine')\n",
        "plt.scatter(rock_height, rock_weight ,c='g',marker='s', label='Rockhopping Penguine')\n",
        "plt.scatter(ah, aw ,c='g',marker='o', label='A', s = 200)\n",
        "plt.scatter(bh, bw ,c='purple',marker='o', label='B', s = 200)\n",
        "plt.scatter(ch, cw ,c='skyblue',marker='o', label='C', s = 200)\n",
        "plt.scatter(dh, dw ,c='red',marker='o', label='D', s = 200)\n",
        "plt.scatter(eh, ew ,c='grey',marker='o', label='D', s = 200)\n",
        "\n",
        "plt.legend()\n",
        "plt.show()"
      ],
      "metadata": {
        "colab": {
          "base_uri": "https://localhost:8080/",
          "height": 295
        },
        "id": "2x65miBGlSAa",
        "outputId": "fc42fc21-58d7-4a2b-fa11-a069190e9be2"
      },
      "execution_count": 55,
      "outputs": [
        {
          "output_type": "display_data",
          "data": {
            "text/plain": [
              "<Figure size 432x288 with 1 Axes>"
            ],
            "image/png": "[encoded data removed]"
          },
          "metadata": {
            "needs_background": "light"
          }
        }
      ]
    }
  ]
}